{
  "cells": [
    {
      "cell_type": "code",
      "execution_count": null,
      "metadata": {
        "collapsed": false
      },
      "outputs": [],
      "source": [
        "%matplotlib inline\nfrom pyvista import set_plot_theme\nset_plot_theme('document')"
      ]
    },
    {
      "cell_type": "markdown",
      "metadata": {},
      "source": [
        "Understanding Nodal Diameters from a Cyclic Model Analysis {#ref_academic_sector}\n==========================================================\n\nThis example shows how to interpret modes from a cyclic analysis from\nMAPDL result file from both single bladed sectors as well as\nmulti-bladed sectors from a modal analysis.\n"
      ]
    },
    {
      "cell_type": "code",
      "execution_count": null,
      "metadata": {
        "collapsed": false
      },
      "outputs": [],
      "source": [
        "# sphinx_gallery_thumbnail_number = 2\n\nimport numpy as np\n\nfrom ansys.mapdl.reader import examples"
      ]
    },
    {
      "cell_type": "markdown",
      "metadata": {},
      "source": [
        "Download the academic modal analysis file\n"
      ]
    },
    {
      "cell_type": "code",
      "execution_count": null,
      "metadata": {
        "collapsed": false
      },
      "outputs": [],
      "source": [
        "rotor = examples.download_academic_rotor_result()\nprint(rotor)"
      ]
    },
    {
      "cell_type": "markdown",
      "metadata": {},
      "source": [
        "Rotor Sector Order\n==================\n\nNote that the sector rotations follow the right-hand rule where the\nX-axis and Y-axis make up the horizontal plane and the Z-axis is\nvertical and positive upwards. Rotation follows the right-hand rule,\nwhich looks anti-clockwise when looking downward onto the XY plane.\n"
      ]
    },
    {
      "cell_type": "code",
      "execution_count": null,
      "metadata": {
        "collapsed": false
      },
      "outputs": [],
      "source": [
        "_ = rotor.plot_sectors(cpos=\"xy\", stitle=\"Sector\", smooth_shading=True, cmap=\"bwr\")"
      ]
    },
    {
      "cell_type": "markdown",
      "metadata": {},
      "source": [
        "Plot Nodal Displacement\n\nThis modal analysis contains two modes for each harmonic index. Since\nthis is a 24 sector rotor, it will contain the harmonic indices from 0\nto N/2, which in this case is 12\n"
      ]
    },
    {
      "cell_type": "code",
      "execution_count": null,
      "metadata": {
        "collapsed": false
      },
      "outputs": [],
      "source": [
        "# Print the harmonic indices with\nprint(rotor.harmonic_indices)"
      ]
    },
    {
      "cell_type": "markdown",
      "metadata": {},
      "source": [
        "You can refer to the result set either using MAPDL\\'s 1-based indexing\nwhich is (Load-step, sub-step).\n"
      ]
    },
    {
      "cell_type": "code",
      "execution_count": null,
      "metadata": {
        "collapsed": false
      },
      "outputs": [],
      "source": [
        "_ = rotor.plot_nodal_displacement((2, 2), comp=\"norm\", cpos=\"xy\")"
      ]
    },
    {
      "cell_type": "markdown",
      "metadata": {},
      "source": [
        "Alternatively, you can refer to the results using cumulative indexing.\n"
      ]
    },
    {
      "cell_type": "code",
      "execution_count": null,
      "metadata": {
        "collapsed": false
      },
      "outputs": [],
      "source": [
        "_ = rotor.plot_nodal_displacement(10, comp=\"norm\", cpos=\"xy\")"
      ]
    },
    {
      "cell_type": "markdown",
      "metadata": {},
      "source": [
        "Understanding Harmonic Indexing\n===============================\n\nANSYS has great documentation on harmonic indexing within their internal\ndocumentation, but for the sake of completeness it will be repeated\nhere.\n\nThe harmonic index used within MAPDL is an integer that determines the\nvariation in the value of a single degree of freedom at points spaced at\na circumferential angle equal to the sector angle.\n\nFor this academic rotor, when the number of \\\"blades\\\" equals the number\nof MAPDL sectors, the harmonic index will always match the nodal\ndiameter. For example, the cumulative result 10 has a harmonic index of\n5:\n"
      ]
    },
    {
      "cell_type": "code",
      "execution_count": null,
      "metadata": {
        "collapsed": false
      },
      "outputs": [],
      "source": [
        "rnum = 10\nprint(\"Harmonic Index:\", rotor.harmonic_indices[rnum])\n\n\n# For the purpose of illustrating the nodal diameter content, we\n# restrict the displacement to a narrow range and force the lower and\n# upper ranges of the plot to indicate the phase of the displacement\n#\n# In this plot you can clearly see that the harmonic index is indeed 5\n# as five, and only 5 lines can be drawn through the node lines\n# spanning the circumference of the rotor.\nr = 0.55\n_ = rotor.plot_nodal_displacement(\n    rnum,\n    comp=\"norm\",\n    cpos=\"xy\",\n    rng=[r, r + 1e-2],\n    stitle=None,\n    add_text=False,\n    cmap=\"bwr\",\n)"
      ]
    },
    {
      "cell_type": "markdown",
      "metadata": {},
      "source": [
        "The same can be done for the simpler nodal diameter 1\n"
      ]
    },
    {
      "cell_type": "code",
      "execution_count": null,
      "metadata": {
        "collapsed": false
      },
      "outputs": [],
      "source": [
        "rnum = 3\nprint(rotor.harmonic_indices[rnum])\n\nr = 0\n_ = rotor.plot_nodal_displacement(\n    rnum,\n    comp=\"z\",\n    cpos=\"xy\",\n    rng=[r, r + 1e-2],\n    add_text=False,\n    stitle=None,\n    cmap=\"bwr\",\n)\n\n\n# Therefore for this rotor with the number of sectors (N) equaling the\n# number of blades, for each harmonic index there can only be one\n# corresponding nodal diameter"
      ]
    },
    {
      "cell_type": "markdown",
      "metadata": {},
      "source": [
        "Multi-Bladed Sectors\n====================\n\nWhen there are multiple blades per sector as in the case of the\nfollowing example, the relationship between the harmonic indices and\nnodal diameters becomes more complicated\n\nIn this case, we use the following equation described in the MAPDL\nCyclic Analysis Guide: d = m\\*N \u00b1 k\n\nwhere: - d is the nodal diameter - N is the number of sectors - k is the\nharmonic index - m is a set of integers from 0 to infinity\n\nTherefore, for a 6 sector rotor, the first 4 possible nodal diameters at\nharmonic index 1 are:\n"
      ]
    },
    {
      "cell_type": "code",
      "execution_count": null,
      "metadata": {
        "collapsed": false
      },
      "outputs": [],
      "source": [
        "N = 6  # number of sectors\nk = 1  # harmonic index\nprint(\"Nodal Diameters :\")\nfor m in range(5):\n    if m > 0:\n        print(\"%4d\" % (m * N - k))\n    print(\"%4d\" % (m * N + k))"
      ]
    },
    {
      "cell_type": "markdown",
      "metadata": {},
      "source": [
        "Normally for a rotor where the number of blades per sector is 1, nodal\ndiameters higher than N are simply aliased back to 1 and these solutions\ndo not appear in the results. However, when the sector contains multiple\nblades per sector, these results do appear in the analysis since they\nare not aliased back into a repeated mode.\n"
      ]
    },
    {
      "cell_type": "code",
      "execution_count": null,
      "metadata": {
        "collapsed": false
      },
      "outputs": [],
      "source": [
        "# Therefore in this example part of the above modes will be\n# back-aliased for a 24 blade, 6 sector rotor, and these can be\n# computed with:\n\nn_blades = 24  # 4 blades per sector\nnodal_diameters = []\nfor m in range(5):\n    if m > 0:\n        nodal_diameters.append(m * N - k)\n    nodal_diameters.append(m * N + k)\n\nprint(\"Nodal Diameters :\")\nfor d in nodal_diameters:\n    if d > n_blades:  # ignore\n        continue\n    elif d > n_blades // 2:  # back alias\n        print(\"%4d\" % -(n_blades - d))\n    else:\n        print(\"%4d\" % d)"
      ]
    },
    {
      "cell_type": "markdown",
      "metadata": {},
      "source": [
        "Plot the Multi-Bladed Sector\n============================\n\nWe can verify these results by analyzing a multi-sector rotor\n"
      ]
    },
    {
      "cell_type": "code",
      "execution_count": null,
      "metadata": {
        "collapsed": false
      },
      "outputs": [],
      "source": [
        "multi_blade_rotor = examples.download_academic_rotor_4blade_result()\n\n# plot all the sectors\n_ = multi_blade_rotor.plot_sectors(\n    cpos=\"xy\", stitle=\"Sector\", smooth_shading=True, cmap=\"bwr\"\n)"
      ]
    },
    {
      "cell_type": "markdown",
      "metadata": {},
      "source": [
        "We can then see that the harmonic indices for harmonic index 1 indeed\nalias back to the expected nodal diameters in the following plots.\n"
      ]
    },
    {
      "cell_type": "code",
      "execution_count": null,
      "metadata": {
        "collapsed": false
      },
      "outputs": [],
      "source": [
        "print(multi_blade_rotor.harmonic_indices)\n\nhi_1 = np.nonzero(multi_blade_rotor.harmonic_indices == 1)[0]\nprint(\"Cumulative indices matching harmonic index 1:\", hi_1)"
      ]
    },
    {
      "cell_type": "markdown",
      "metadata": {},
      "source": [
        "Cumulative result 8 and harmonic index 1\n"
      ]
    },
    {
      "cell_type": "code",
      "execution_count": null,
      "metadata": {
        "collapsed": false
      },
      "outputs": [],
      "source": [
        "rnum = 8\ntext = \"Expected Nodal Diameter %2d\" % nodal_diameters[0]\n_ = multi_blade_rotor.plot_nodal_displacement(\n    rnum, comp=\"z\", cpos=\"xy\", rng=[r, r + 1e-2], add_text=text, stitle=None, cmap=\"bwr\"\n)"
      ]
    },
    {
      "cell_type": "markdown",
      "metadata": {},
      "source": [
        "Cumulative result 10 and harmonic index 5\n"
      ]
    },
    {
      "cell_type": "code",
      "execution_count": null,
      "metadata": {
        "collapsed": false
      },
      "outputs": [],
      "source": [
        "rnum = 10\ntext = \"Expected Nodal Diameter %2d\" % nodal_diameters[1]\n_ = multi_blade_rotor.plot_nodal_displacement(\n    rnum, comp=\"z\", cpos=\"xy\", rng=[r, r + 1e-2], add_text=text, stitle=None, cmap=\"bwr\"\n)"
      ]
    },
    {
      "cell_type": "markdown",
      "metadata": {},
      "source": [
        "Cumulative result 13 and harmonic index 7\n"
      ]
    },
    {
      "cell_type": "code",
      "execution_count": null,
      "metadata": {
        "collapsed": false
      },
      "outputs": [],
      "source": [
        "rnum = 13\ntext = \"Expected Nodal Diameter %2d\" % nodal_diameters[2]\n_ = multi_blade_rotor.plot_nodal_displacement(\n    rnum, comp=\"z\", cpos=\"xy\", rng=[r, r + 1e-2], add_text=text, stitle=None, cmap=\"bwr\"\n)"
      ]
    },
    {
      "cell_type": "markdown",
      "metadata": {},
      "source": [
        "Cumulative result 15 and harmonic index 11\n"
      ]
    },
    {
      "cell_type": "code",
      "execution_count": null,
      "metadata": {
        "collapsed": false
      },
      "outputs": [],
      "source": [
        "rnum = 15\ntext = \"Expected Nodal Diameter %2d\" % nodal_diameters[3]\n_ = multi_blade_rotor.plot_nodal_displacement(\n    rnum, comp=\"z\", cpos=\"xy\", rng=[r, r + 1e-2], add_text=text, stitle=None, cmap=\"bwr\"\n)"
      ]
    },
    {
      "cell_type": "markdown",
      "metadata": {},
      "source": [
        "Traveling Wave Animation\n========================\n\nYou can animate the traveling wave for a cyclic result using\n`animate_nodal_displacement`. For a modal result, be sure to modify\n`displacement_factor` to a value that properly scales the modal\nsolution. Recall that solutions to a modal analysis from MAPDL may or\nmay not be scaled to unity or the mass matrix depending on the settings\nwithin the modal analysis.\n\nSet `loop=True` to allow for a continuous plot, and modify `n_frames` to\nallow for a smoother or faster plot. See `help(pyvista.plot)` for\nadditional keyword arguments.\n"
      ]
    },
    {
      "cell_type": "code",
      "execution_count": null,
      "metadata": {
        "collapsed": false
      },
      "outputs": [],
      "source": [
        "_ = rotor.animate_nodal_displacement(\n    (3, 1),\n    displacement_factor=0.03,\n    n_frames=30,\n    show_axes=False,\n    background=\"w\",\n    loop=False,\n    add_text=False,\n    movie_filename=\"EO3_Mode1.gif\",\n)"
      ]
    },
    {
      "cell_type": "markdown",
      "metadata": {},
      "source": [
        "Note how you can plot the backwards traveling wave by selecting the\nsecond mode in the mode pair `(3, 2)` instead of `(3, 1)`.\n"
      ]
    },
    {
      "cell_type": "code",
      "execution_count": null,
      "metadata": {
        "collapsed": false
      },
      "outputs": [],
      "source": [
        "_ = rotor.animate_nodal_displacement(\n    (3, 2),\n    displacement_factor=0.03,\n    n_frames=30,\n    show_axes=False,\n    background=\"w\",\n    loop=False,\n    add_text=False,\n    movie_filename=\"EO3_Mode1.gif\",\n)"
      ]
    }
  ],
  "metadata": {
    "kernelspec": {
      "display_name": "Python 3",
      "language": "python",
      "name": "python3"
    },
    "language_info": {
      "codemirror_mode": {
        "name": "ipython",
        "version": 3
      },
      "file_extension": ".py",
      "mimetype": "text/x-python",
      "name": "python",
      "nbconvert_exporter": "python",
      "pygments_lexer": "ipython3",
      "version": "3.10.15"
    }
  },
  "nbformat": 4,
  "nbformat_minor": 0
}