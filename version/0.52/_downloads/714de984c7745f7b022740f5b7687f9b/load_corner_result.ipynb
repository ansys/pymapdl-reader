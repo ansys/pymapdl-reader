{
  "cells": [
    {
      "cell_type": "code",
      "execution_count": null,
      "metadata": {
        "collapsed": false
      },
      "outputs": [],
      "source": [
        "%matplotlib inline\nfrom pyvista import set_plot_theme\nset_plot_theme('document')"
      ]
    },
    {
      "cell_type": "markdown",
      "metadata": {},
      "source": [
        "Cylindrical Nodal Stress {#ref_load_cylindrical_result}\n========================\n\nVisualize the nodal stress in the radial direction. This is equivalent\nto setting the result coordinate system to cylindrical in MAPDL (e.g.\n`RSYS, 1`).\n"
      ]
    },
    {
      "cell_type": "markdown",
      "metadata": {},
      "source": [
        "Download a small result file containing the corner of a thick pipe\n"
      ]
    },
    {
      "cell_type": "code",
      "execution_count": null,
      "metadata": {
        "collapsed": false
      },
      "outputs": [],
      "source": [
        "from ansys.mapdl.reader import examples\n\nrst = examples.download_corner_pipe()\n\n# obtain the cylindrical_nodal_stress\nnnum, stress = rst.cylindrical_nodal_stress(0)\nprint(stress)\n\n# contains results for each node in following directions\n# R, THETA, Z, RTHETA, THETAZ, and RZ\nprint(stress.shape)"
      ]
    },
    {
      "cell_type": "markdown",
      "metadata": {},
      "source": [
        "plot cylindrical nodal stress in the radial direction\n"
      ]
    },
    {
      "cell_type": "code",
      "execution_count": null,
      "metadata": {
        "collapsed": false
      },
      "outputs": [],
      "source": [
        "_ = rst.plot_cylindrical_nodal_stress(0, \"R\", show_edges=True, show_axes=True)"
      ]
    },
    {
      "cell_type": "markdown",
      "metadata": {},
      "source": [
        "plot cylindrical nodal stress in the theta direction\n"
      ]
    },
    {
      "cell_type": "code",
      "execution_count": null,
      "metadata": {
        "collapsed": false
      },
      "outputs": [],
      "source": [
        "_ = rst.plot_cylindrical_nodal_stress(\n    0, \"THETA\", show_edges=True, show_axes=True, add_text=False\n)"
      ]
    },
    {
      "cell_type": "markdown",
      "metadata": {},
      "source": [
        "Plot cartesian stress in the \\\"X\\\" direction\n"
      ]
    },
    {
      "cell_type": "code",
      "execution_count": null,
      "metadata": {
        "collapsed": false
      },
      "outputs": [],
      "source": [
        "_ = rst.plot_nodal_stress(0, \"X\", show_edges=True, show_axes=True)"
      ]
    }
  ],
  "metadata": {
    "kernelspec": {
      "display_name": "Python 3",
      "language": "python",
      "name": "python3"
    },
    "language_info": {
      "codemirror_mode": {
        "name": "ipython",
        "version": 3
      },
      "file_extension": ".py",
      "mimetype": "text/x-python",
      "name": "python",
      "nbconvert_exporter": "python",
      "pygments_lexer": "ipython3",
      "version": "3.10.12"
    }
  },
  "nbformat": 4,
  "nbformat_minor": 0
}