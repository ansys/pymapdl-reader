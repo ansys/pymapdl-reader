{
  "cells": [
    {
      "cell_type": "code",
      "execution_count": null,
      "metadata": {
        "collapsed": false
      },
      "outputs": [],
      "source": [
        "%matplotlib inline\nfrom pyvista import set_plot_theme\nset_plot_theme('document')"
      ]
    },
    {
      "cell_type": "markdown",
      "metadata": {},
      "source": [
        "Cyclic Model Visualization {#ref_sector_model}\n==========================\n\nVisualize and animate a full cyclic model. This model is based on the\njetcat rotor.\n\nFirst, load the rotor. Notice how printing the rotor class reveals the\ndetails of the rotor result file.\n"
      ]
    },
    {
      "cell_type": "code",
      "execution_count": null,
      "metadata": {
        "collapsed": false
      },
      "outputs": [],
      "source": [
        "# sphinx_gallery_thumbnail_number = 2\nfrom ansys.mapdl.reader import examples\n\nrotor = examples.download_sector_modal()\nprint(rotor)"
      ]
    },
    {
      "cell_type": "markdown",
      "metadata": {},
      "source": [
        "Plot the rotor and rotor sectors\n\nNote that additional keyword arguments can be passed to the plotting\nfunctions of `pymapdl-reader`. See `help(pyvista.plot` for the\ndocumentation on all the keyword arguments.\n"
      ]
    },
    {
      "cell_type": "code",
      "execution_count": null,
      "metadata": {
        "collapsed": false
      },
      "outputs": [],
      "source": [
        "rotor.plot_sectors(cpos=\"xy\", smooth_shading=True)\nrotor.plot()"
      ]
    },
    {
      "cell_type": "markdown",
      "metadata": {},
      "source": [
        "Plot nodal displacement for result 21.\n\nNote that pymapdl-reader uses 0 based cumulative indexing. You could\nalso use the (load step, sub step) `(4, 3)`.\n"
      ]
    },
    {
      "cell_type": "code",
      "execution_count": null,
      "metadata": {
        "collapsed": false
      },
      "outputs": [],
      "source": [
        "rotor.plot_nodal_displacement(\n    20, show_displacement=True, displacement_factor=0.001, overlay_wireframe=True\n)  # same as (2, 4)"
      ]
    },
    {
      "cell_type": "markdown",
      "metadata": {},
      "source": [
        "Animate Mode 21\n===============\n\nDisable movie\\_filename and increase n\\_frames for a smoother plot\n"
      ]
    },
    {
      "cell_type": "code",
      "execution_count": null,
      "metadata": {
        "collapsed": false
      },
      "outputs": [],
      "source": [
        "rotor.animate_nodal_solution(\n    20,\n    loop=False,\n    movie_filename=\"rotor_mode.gif\",\n    background=\"w\",\n    displacement_factor=0.001,\n    add_text=False,\n    n_frames=30,\n)"
      ]
    }
  ],
  "metadata": {
    "kernelspec": {
      "display_name": "Python 3",
      "language": "python",
      "name": "python3"
    },
    "language_info": {
      "codemirror_mode": {
        "name": "ipython",
        "version": 3
      },
      "file_extension": ".py",
      "mimetype": "text/x-python",
      "name": "python",
      "nbconvert_exporter": "python",
      "pygments_lexer": "ipython3",
      "version": "3.10.12"
    }
  },
  "nbformat": 4,
  "nbformat_minor": 0
}