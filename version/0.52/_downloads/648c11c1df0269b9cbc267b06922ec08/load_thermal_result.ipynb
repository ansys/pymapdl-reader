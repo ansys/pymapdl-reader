{
  "cells": [
    {
      "cell_type": "code",
      "execution_count": null,
      "metadata": {
        "collapsed": false
      },
      "outputs": [],
      "source": [
        "%matplotlib inline\nfrom pyvista import set_plot_theme\nset_plot_theme('document')"
      ]
    },
    {
      "cell_type": "markdown",
      "metadata": {},
      "source": [
        "Thermal Analysis {#ref_load_thermal_result}\n================\n\nVisualize the result of verification manual test 33.\n"
      ]
    },
    {
      "cell_type": "code",
      "execution_count": null,
      "metadata": {
        "collapsed": false
      },
      "outputs": [],
      "source": [
        "from ansys.mapdl.reader import examples"
      ]
    },
    {
      "cell_type": "markdown",
      "metadata": {},
      "source": [
        "Download the result file from verification manual test case 33\n"
      ]
    },
    {
      "cell_type": "code",
      "execution_count": null,
      "metadata": {
        "collapsed": false
      },
      "outputs": [],
      "source": [
        "vm33 = examples.download_verification_result(33)\n\n# get nodal thermal strain for result set 1\nnnum, tstrain = vm33.nodal_thermal_strain(0)\n\n# plot nodal thermal strain for result set 11 in the X direction\nvm33.plot_nodal_thermal_strain(\n    10, \"X\", show_edges=True, lighting=True, cmap=\"bwr\", show_axes=True\n)"
      ]
    },
    {
      "cell_type": "markdown",
      "metadata": {},
      "source": [
        "Plot with contours\n"
      ]
    },
    {
      "cell_type": "code",
      "execution_count": null,
      "metadata": {
        "collapsed": false
      },
      "outputs": [],
      "source": [
        "# Disable lighting and set number of colors to 10 to make an MAPDL-like plot\nvm33.plot_nodal_thermal_strain(\n    10,\n    \"X\",\n    show_edges=True,\n    n_colors=10,\n    interpolate_before_map=True,\n    lighting=False,\n    show_axes=True,\n)"
      ]
    }
  ],
  "metadata": {
    "kernelspec": {
      "display_name": "Python 3",
      "language": "python",
      "name": "python3"
    },
    "language_info": {
      "codemirror_mode": {
        "name": "ipython",
        "version": 3
      },
      "file_extension": ".py",
      "mimetype": "text/x-python",
      "name": "python",
      "nbconvert_exporter": "python",
      "pygments_lexer": "ipython3",
      "version": "3.10.12"
    }
  },
  "nbformat": 4,
  "nbformat_minor": 0
}