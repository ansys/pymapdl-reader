{
  "cells": [
    {
      "cell_type": "code",
      "execution_count": null,
      "metadata": {
        "collapsed": false
      },
      "outputs": [],
      "source": [
        "%matplotlib inline\nfrom pyvista import set_plot_theme\nset_plot_theme('document')"
      ]
    },
    {
      "cell_type": "markdown",
      "metadata": {},
      "source": [
        "Shaft Modal Analysis {#ref_load_shaft_result}\n====================\n\nVisualize a shaft modal analysis\n"
      ]
    },
    {
      "cell_type": "code",
      "execution_count": null,
      "metadata": {
        "collapsed": false
      },
      "outputs": [],
      "source": [
        "# sphinx_gallery_thumbnail_number = 6\n\nfrom ansys.mapdl.reader import examples\n\n# Download an example shaft modal analysis result file\nshaft = examples.download_shaft_modal()"
      ]
    },
    {
      "cell_type": "markdown",
      "metadata": {},
      "source": [
        "Mesh is stored within the result object\n"
      ]
    },
    {
      "cell_type": "code",
      "execution_count": null,
      "metadata": {
        "collapsed": false
      },
      "outputs": [],
      "source": [
        "print(shaft.mesh)"
      ]
    },
    {
      "cell_type": "markdown",
      "metadata": {},
      "source": [
        "\\...and contains a VTK unstructured grid\n"
      ]
    },
    {
      "cell_type": "code",
      "execution_count": null,
      "metadata": {
        "collapsed": false
      },
      "outputs": [],
      "source": [
        "print(shaft.mesh._grid)"
      ]
    },
    {
      "cell_type": "markdown",
      "metadata": {},
      "source": [
        "Plot the shaft\n"
      ]
    },
    {
      "cell_type": "code",
      "execution_count": null,
      "metadata": {
        "collapsed": false
      },
      "outputs": [],
      "source": [
        "cpos = shaft.plot()\n\n# list shaft node components"
      ]
    },
    {
      "cell_type": "code",
      "execution_count": null,
      "metadata": {
        "collapsed": false
      },
      "outputs": [],
      "source": [
        "print(shaft.element_components.keys())"
      ]
    },
    {
      "cell_type": "markdown",
      "metadata": {},
      "source": [
        "Plot a node component\n\nThis camera angle was saved interactively from `shaft.plot`\n"
      ]
    },
    {
      "cell_type": "code",
      "execution_count": null,
      "metadata": {
        "collapsed": false
      },
      "outputs": [],
      "source": [
        "cpos = [\n    (-115.35773008378118, 285.36602704380107, -393.9029392590675),\n    (126.12852038381345, 0.2179228023931401, 5.236408799851887),\n    (0.37246222812978824, 0.8468424028124546, 0.37964435122285495),\n]\nshaft.plot(element_components=[\"SHAFT_MESH\"], cpos=cpos)\n# get cpos from cpos = shaft.plot()"
      ]
    },
    {
      "cell_type": "markdown",
      "metadata": {},
      "source": [
        "Plot a node component as a wireframe\n"
      ]
    },
    {
      "cell_type": "code",
      "execution_count": null,
      "metadata": {
        "collapsed": false
      },
      "outputs": [],
      "source": [
        "shaft.plot(\n    element_components=[\"SHAFT_MESH\"], cpos=cpos, style=\"wireframe\", lighting=False\n)"
      ]
    },
    {
      "cell_type": "markdown",
      "metadata": {},
      "source": [
        "Plot the shaft with edges and with a blue color\n"
      ]
    },
    {
      "cell_type": "code",
      "execution_count": null,
      "metadata": {
        "collapsed": false
      },
      "outputs": [],
      "source": [
        "shaft.plot(show_edges=True, color=\"cyan\")"
      ]
    },
    {
      "cell_type": "markdown",
      "metadata": {},
      "source": [
        "Plot the shaft without lighting but with edges and with a blue color\n"
      ]
    },
    {
      "cell_type": "code",
      "execution_count": null,
      "metadata": {
        "collapsed": false
      },
      "outputs": [],
      "source": [
        "shaft.plot(lighting=False, show_edges=True, color=\"cyan\")"
      ]
    },
    {
      "cell_type": "markdown",
      "metadata": {},
      "source": [
        "plot a mode shape without contours using the \\\"bwr\\\" color map\n"
      ]
    },
    {
      "cell_type": "code",
      "execution_count": null,
      "metadata": {
        "collapsed": false
      },
      "outputs": [],
      "source": [
        "shaft.plot_nodal_solution(\n    9,\n    element_components=[\"SHAFT_MESH\"],\n    show_displacement=True,\n    cmap=\"bwr\",\n    displacement_factor=0.3,\n    stitle=None,\n    overlay_wireframe=True,\n    cpos=cpos,\n)"
      ]
    },
    {
      "cell_type": "markdown",
      "metadata": {},
      "source": [
        "plot a mode shape with contours and the default colormap\n"
      ]
    },
    {
      "cell_type": "code",
      "execution_count": null,
      "metadata": {
        "collapsed": false
      },
      "outputs": [],
      "source": [
        "shaft.plot_nodal_solution(\n    1,\n    element_components=[\"SHAFT_MESH\"],\n    n_colors=10,\n    show_displacement=True,\n    displacement_factor=1,\n    stitle=None,\n    overlay_wireframe=True,\n    cpos=cpos,\n)"
      ]
    },
    {
      "cell_type": "markdown",
      "metadata": {},
      "source": [
        "Animate a mode of a component the shaft\n\nSet `loop==True` to plot continuously. Disable `movie_filename` and\nincrease `n_frames` for a smoother plot\n"
      ]
    },
    {
      "cell_type": "code",
      "execution_count": null,
      "metadata": {
        "collapsed": false
      },
      "outputs": [],
      "source": [
        "shaft.animate_nodal_solution(\n    5,\n    element_components=\"SHAFT_MESH\",\n    comp=\"norm\",\n    displacement_factor=1,\n    show_edges=True,\n    cpos=cpos,\n    loop=False,\n    movie_filename=\"demo.gif\",\n    n_frames=30,\n)"
      ]
    }
  ],
  "metadata": {
    "kernelspec": {
      "display_name": "Python 3",
      "language": "python",
      "name": "python3"
    },
    "language_info": {
      "codemirror_mode": {
        "name": "ipython",
        "version": 3
      },
      "file_extension": ".py",
      "mimetype": "text/x-python",
      "name": "python",
      "nbconvert_exporter": "python",
      "pygments_lexer": "ipython3",
      "version": "3.10.13"
    }
  },
  "nbformat": 4,
  "nbformat_minor": 0
}